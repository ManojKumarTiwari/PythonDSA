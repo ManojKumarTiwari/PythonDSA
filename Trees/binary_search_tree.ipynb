{
 "cells": [
  {
   "cell_type": "code",
   "execution_count": 108,
   "metadata": {},
   "outputs": [],
   "source": [
    "class BSTNode():\n",
    "    def __init__(self, data):\n",
    "        self.data = data \n",
    "        self.left = None\n",
    "        self.right = None\n",
    "\n",
    "def insertNode(rootNode, nodeValue):\n",
    "    if rootNode.data is None:\n",
    "        rootNode.data = nodeValue\n",
    "    elif nodeValue <= rootNode.data:\n",
    "        if rootNode.left is None:\n",
    "            rootNode.left = BSTNode(nodeValue)\n",
    "        else:\n",
    "            insertNode(rootNode.left, nodeValue)\n",
    "    else:\n",
    "        if rootNode.right is None:\n",
    "            rootNode.right = BSTNode(nodeValue)\n",
    "        else:\n",
    "            insertNode(rootNode.right, nodeValue)\n",
    "    return \"Node inserted successfully\"\n",
    "\n",
    "def preOrderTraversal(rootNode):\n",
    "    if rootNode is None:\n",
    "        return\n",
    "    print(rootNode.data)\n",
    "    preOrderTraversal(rootNode.left)\n",
    "    preOrderTraversal(rootNode.right)\n",
    "\n",
    "def inOrderTraversal(rootNode):\n",
    "    if rootNode is None:\n",
    "        return\n",
    "    inOrderTraversal(rootNode.left)\n",
    "    print(rootNode.data)\n",
    "    inOrderTraversal(rootNode.right)\n",
    "\n",
    "def postOrderTraversal(rootNode):\n",
    "    if rootNode is None:\n",
    "        return\n",
    "    postOrderTraversal(rootNode.left)\n",
    "    postOrderTraversal(rootNode.right)\n",
    "    print(rootNode.data)\n",
    "\n",
    "def levelOrderTraversal(rootNode):\n",
    "    if rootNode is None:\n",
    "        return\n",
    "    else:\n",
    "        queue = []\n",
    "        queue.append(rootNode)\n",
    "        while queue:\n",
    "            root = queue.pop(0)\n",
    "            print(root.data)\n",
    "            if root.left is not None:\n",
    "                queue.append(root.left)\n",
    "            if root.right is not None:\n",
    "                queue.append(root.right)\n",
    "\n",
    "def searchNode(rootNode, searchValue):\n",
    "    if rootNode.data == searchValue:\n",
    "        print(\"Found\")\n",
    "    elif searchValue < rootNode.data:\n",
    "        if rootNode.left == searchValue:\n",
    "            print(\"Found\")\n",
    "        else:\n",
    "            searchNode(rootNode.left, searchValue)\n",
    "    elif searchValue > rootNode.data:\n",
    "        if rootNode.right == searchValue:\n",
    "            print(\"Found\")\n",
    "        else:\n",
    "            searchNode(rootNode.right, searchValue)\n",
    "    else:\n",
    "        print(\"Not Found\")\n",
    "\n",
    "def minValueNode(bstNode):\n",
    "    current = bstNode\n",
    "    while current.left is not None:\n",
    "        current = current.left\n",
    "    return current\n",
    "\n",
    "def deleteNode(rootNode, deleteValue):\n",
    "    # Case 1: Deleting leaf node\n",
    "    if rootNode is None:\n",
    "        return rootNode\n",
    "    elif deleteValue < rootNode.data:\n",
    "        rootNode.left = deleteNode(rootNode.left, deleteValue)\n",
    "    elif deleteValue > rootNode.data:\n",
    "        rootNode.right = deleteNode(rootNode.right, deleteValue)\n",
    "    else:\n",
    "        # Case 2: Deleting node with one child\n",
    "        if rootNode.left is None:\n",
    "            temp = rootNode.right\n",
    "            rootNode = None\n",
    "            return temp\n",
    "        \n",
    "        if rootNode.right is None:\n",
    "            temp = rootNode.left\n",
    "            rootNode = None\n",
    "            return temp\n",
    "        \n",
    "        # Case 3: Deleting node with two children\n",
    "        temp = minValueNode(rootNode.right)\n",
    "        rootNode.data = temp.data\n",
    "        rootNode.right = deleteNode(rootNode.right, deleteValue)\n",
    "    return rootNode\n",
    "\n",
    "def deleteBST(rootNode):\n",
    "    rootNode.data = None\n",
    "    rootNode.left = None\n",
    "    rootNode.right = None\n",
    "    return \"Deleted BST\"\n"
   ]
  },
  {
   "cell_type": "code",
   "execution_count": 98,
   "metadata": {},
   "outputs": [],
   "source": [
    "newBST = BSTNode(None)"
   ]
  },
  {
   "cell_type": "code",
   "execution_count": 99,
   "metadata": {},
   "outputs": [
    {
     "name": "stdout",
     "output_type": "stream",
     "text": [
      "Node inserted successfully\n",
      "Node inserted successfully\n",
      "Node inserted successfully\n",
      "Node inserted successfully\n",
      "Node inserted successfully\n",
      "Node inserted successfully\n",
      "Node inserted successfully\n",
      "Node inserted successfully\n",
      "Node inserted successfully\n"
     ]
    }
   ],
   "source": [
    "print(insertNode(newBST, 70))\n",
    "print(insertNode(newBST, 50))\n",
    "print(insertNode(newBST, 90))\n",
    "print(insertNode(newBST, 30))\n",
    "print(insertNode(newBST, 60))\n",
    "print(insertNode(newBST, 80))\n",
    "print(insertNode(newBST, 100))\n",
    "print(insertNode(newBST, 20))\n",
    "print(insertNode(newBST, 40))"
   ]
  },
  {
   "cell_type": "code",
   "execution_count": 100,
   "metadata": {},
   "outputs": [
    {
     "name": "stdout",
     "output_type": "stream",
     "text": [
      "70\n",
      "50\n",
      "30\n",
      "20\n",
      "40\n",
      "60\n",
      "90\n",
      "80\n",
      "100\n"
     ]
    }
   ],
   "source": [
    "preOrderTraversal(newBST)"
   ]
  },
  {
   "cell_type": "code",
   "execution_count": 101,
   "metadata": {},
   "outputs": [
    {
     "name": "stdout",
     "output_type": "stream",
     "text": [
      "20\n",
      "30\n",
      "40\n",
      "50\n",
      "60\n",
      "70\n",
      "80\n",
      "90\n",
      "100\n"
     ]
    }
   ],
   "source": [
    "inOrderTraversal(newBST)"
   ]
  },
  {
   "cell_type": "code",
   "execution_count": 102,
   "metadata": {},
   "outputs": [
    {
     "name": "stdout",
     "output_type": "stream",
     "text": [
      "20\n",
      "40\n",
      "30\n",
      "60\n",
      "50\n",
      "80\n",
      "100\n",
      "90\n",
      "70\n"
     ]
    }
   ],
   "source": [
    "postOrderTraversal(newBST)"
   ]
  },
  {
   "cell_type": "code",
   "execution_count": 103,
   "metadata": {},
   "outputs": [
    {
     "name": "stdout",
     "output_type": "stream",
     "text": [
      "70\n",
      "50\n",
      "90\n",
      "30\n",
      "60\n",
      "80\n",
      "100\n",
      "20\n",
      "40\n"
     ]
    }
   ],
   "source": [
    "levelOrderTraversal(newBST)"
   ]
  },
  {
   "cell_type": "code",
   "execution_count": 104,
   "metadata": {},
   "outputs": [
    {
     "name": "stdout",
     "output_type": "stream",
     "text": [
      "Found\n"
     ]
    }
   ],
   "source": [
    "searchNode(newBST, 50)"
   ]
  },
  {
   "cell_type": "code",
   "execution_count": 106,
   "metadata": {},
   "outputs": [
    {
     "name": "stdout",
     "output_type": "stream",
     "text": [
      "80\n",
      "50\n",
      "90\n",
      "30\n",
      "60\n",
      "80\n",
      "100\n",
      "40\n"
     ]
    }
   ],
   "source": [
    "deleteNode(newBST, 70)\n",
    "levelOrderTraversal(newBST)"
   ]
  },
  {
   "cell_type": "code",
   "execution_count": 109,
   "metadata": {},
   "outputs": [
    {
     "name": "stdout",
     "output_type": "stream",
     "text": [
      "Deleted BST\n",
      "None\n"
     ]
    }
   ],
   "source": [
    "print(deleteBST(newBST))\n",
    "inOrderTraversal(newBST)"
   ]
  },
  {
   "cell_type": "code",
   "execution_count": null,
   "metadata": {},
   "outputs": [],
   "source": []
  }
 ],
 "metadata": {
  "kernelspec": {
   "display_name": "base",
   "language": "python",
   "name": "python3"
  },
  "language_info": {
   "codemirror_mode": {
    "name": "ipython",
    "version": 3
   },
   "file_extension": ".py",
   "mimetype": "text/x-python",
   "name": "python",
   "nbconvert_exporter": "python",
   "pygments_lexer": "ipython3",
   "version": "3.11.5"
  }
 },
 "nbformat": 4,
 "nbformat_minor": 2
}
