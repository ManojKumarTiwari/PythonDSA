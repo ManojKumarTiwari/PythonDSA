{
 "cells": [
  {
   "cell_type": "code",
   "execution_count": 1,
   "id": "ed516011-b33f-46b9-b69c-65650b81eff0",
   "metadata": {},
   "outputs": [],
   "source": [
    "from abc import ABC, abstractmethod"
   ]
  },
  {
   "cell_type": "code",
   "execution_count": 6,
   "id": "0c231f65-86af-4970-9436-96fb4d4255c5",
   "metadata": {},
   "outputs": [],
   "source": [
    "class BaseNode(ABC):\n",
    "    def __init__(self, value): \n",
    "        self.value = value"
   ]
  },
  {
   "cell_type": "code",
   "execution_count": 7,
   "id": "bf812264-8225-47dc-9d41-c602e62b4955",
   "metadata": {},
   "outputs": [],
   "source": [
    "class SNode(BaseNode): \n",
    "    def __init__(self, value):\n",
    "        super().__init__(value)\n",
    "        self.next = None"
   ]
  },
  {
   "cell_type": "code",
   "execution_count": 9,
   "id": "e0463f7c-15a1-47f1-8147-f8a015d5b551",
   "metadata": {},
   "outputs": [
    {
     "data": {
      "text/plain": [
       "(10, None)"
      ]
     },
     "execution_count": 9,
     "metadata": {},
     "output_type": "execute_result"
    }
   ],
   "source": [
    "node: SNode = SNode(10)\n",
    "node.value, node.next"
   ]
  },
  {
   "cell_type": "code",
   "execution_count": 422,
   "id": "35ac4690-aa84-466d-af30-fdf5839ac852",
   "metadata": {},
   "outputs": [],
   "source": [
    "class LinkedList():\n",
    "    def __init__(self): \n",
    "        self.head = None\n",
    "        self.tail = None\n",
    "        self.lenght = 0\n",
    "\n",
    "    def __str__(self): \n",
    "        temp_node = self.head\n",
    "        result = \"\"\n",
    "        while temp_node is not None: \n",
    "            result = result + str(temp_node.value)\n",
    "            if temp_node.next is not None:\n",
    "                result = result + \" -> \"\n",
    "            temp_node = temp_node.next\n",
    "        return result\n",
    "\n",
    "    def append(self, value):\n",
    "        new_node = SNode(value)\n",
    "        if self.head is None:\n",
    "            self.head = new_node\n",
    "            self.tail = new_node\n",
    "        else:\n",
    "            self.tail.next = new_node\n",
    "            self.tail = new_node\n",
    "        self.lenght+=1\n",
    "\n",
    "    def prepend(self, value): \n",
    "        new_node = SNode(value)\n",
    "        if self.head is None:\n",
    "            self.head = new_node\n",
    "            self.tail = new_node\n",
    "        else:\n",
    "            new_node.next = self.head\n",
    "            self.head = new_node\n",
    "        self.lenght+=1\n",
    "\n",
    "    def insert(self, index, value):\n",
    "        new_node = SNode(value)\n",
    "        temp_node = self.head\n",
    "        if abs(index) > self.lenght + 1 or index > self.lenght:\n",
    "            raise IndexError(f\"Out of bound expection: The lenght of LinkedList is {self.lenght}. Enter value <= {self.lenght} or >= -{self.lenght + 1}\")\n",
    "        elif index == self.lenght or index == -1:\n",
    "            self.append(value)\n",
    "        elif index == 0 or index == -self.lenght-1:\n",
    "            self.prepend(value)\n",
    "        else: \n",
    "            if index > 0:\n",
    "                for i in range(index - 1):\n",
    "                    temp_node = temp_node.next\n",
    "                new_node.next = temp_node.next\n",
    "                temp_node.next = new_node\n",
    "            else:\n",
    "                for i in range(self.lenght + index):\n",
    "                    temp_node = temp_node.next\n",
    "                new_node.next = temp_node.next\n",
    "                temp_node.next = new_node\n",
    "            self.lenght+=1\n",
    "\n",
    "    def traverse(self):\n",
    "        current = self.head\n",
    "        while current:\n",
    "            print(current.value)\n",
    "            current = current.next\n",
    "\n",
    "    def serach(self, target_value):\n",
    "        current = self.head\n",
    "        index = 0\n",
    "        while current:\n",
    "            if current.value == target_value:\n",
    "                return index\n",
    "            current = current.next\n",
    "            index+=1\n",
    "        return -1\n",
    "\n",
    "    "
   ]
  },
  {
   "cell_type": "code",
   "execution_count": 423,
   "id": "202ef3c1-eeb2-46ce-b849-4459e90d6b9b",
   "metadata": {},
   "outputs": [],
   "source": [
    "ll: LinkedList = LinkedList()\n",
    "ll.append(10)\n",
    "ll.append(20)\n",
    "ll.append(30)"
   ]
  },
  {
   "cell_type": "code",
   "execution_count": 424,
   "id": "417e7080-0347-435d-a02a-36ec380a1961",
   "metadata": {},
   "outputs": [
    {
     "data": {
      "text/plain": [
       "(10, 30)"
      ]
     },
     "execution_count": 424,
     "metadata": {},
     "output_type": "execute_result"
    }
   ],
   "source": [
    "ll.head.value, ll.tail.value"
   ]
  },
  {
   "cell_type": "code",
   "execution_count": 425,
   "id": "15241c00-d39a-40e5-b907-1217f803662c",
   "metadata": {},
   "outputs": [
    {
     "name": "stdout",
     "output_type": "stream",
     "text": [
      "10 -> 20 -> 30\n"
     ]
    }
   ],
   "source": [
    "print(ll)"
   ]
  },
  {
   "cell_type": "code",
   "execution_count": 426,
   "id": "59feef52-c088-492e-aec2-85a11b5d3fd0",
   "metadata": {},
   "outputs": [
    {
     "data": {
      "text/plain": [
       "3"
      ]
     },
     "execution_count": 426,
     "metadata": {},
     "output_type": "execute_result"
    }
   ],
   "source": [
    "ll.lenght"
   ]
  },
  {
   "cell_type": "code",
   "execution_count": 427,
   "id": "8dcfa279-6978-4386-810b-86375c3921b6",
   "metadata": {},
   "outputs": [
    {
     "name": "stdout",
     "output_type": "stream",
     "text": [
      "10\n",
      "20\n",
      "30\n"
     ]
    }
   ],
   "source": [
    "ll.traverse()"
   ]
  },
  {
   "cell_type": "code",
   "execution_count": 429,
   "id": "e0804039-1a7b-4032-be40-99660bf30ac5",
   "metadata": {},
   "outputs": [
    {
     "name": "stdout",
     "output_type": "stream",
     "text": [
      "2\n"
     ]
    }
   ],
   "source": [
    "print(ll.serach(30))"
   ]
  },
  {
   "cell_type": "code",
   "execution_count": 430,
   "id": "072a8043-cdd8-4f1e-8a0d-b30abb1b20d4",
   "metadata": {},
   "outputs": [
    {
     "name": "stdout",
     "output_type": "stream",
     "text": [
      "-1\n"
     ]
    }
   ],
   "source": [
    "print(ll.serach(50))"
   ]
  },
  {
   "cell_type": "code",
   "execution_count": 392,
   "id": "d43d84a1-cdc4-4698-9f41-18c6bdf52600",
   "metadata": {},
   "outputs": [
    {
     "name": "stdout",
     "output_type": "stream",
     "text": [
      "1\n"
     ]
    }
   ],
   "source": [
    "ll1 = LinkedList()\n",
    "ll1.prepend(1)\n",
    "print(ll1)"
   ]
  },
  {
   "cell_type": "code",
   "execution_count": 393,
   "id": "94cd4233-3982-4fb3-8ff7-d1cb9a529164",
   "metadata": {},
   "outputs": [
    {
     "ename": "IndexError",
     "evalue": "Out of bound expection: The lenght of LinkedList is 3. Enter value <= 3 or >= -4",
     "output_type": "error",
     "traceback": [
      "\u001b[1;31m---------------------------------------------------------------------------\u001b[0m",
      "\u001b[1;31mIndexError\u001b[0m                                Traceback (most recent call last)",
      "Cell \u001b[1;32mIn[393], line 1\u001b[0m\n\u001b[1;32m----> 1\u001b[0m \u001b[43mll\u001b[49m\u001b[38;5;241;43m.\u001b[39;49m\u001b[43minsert\u001b[49m\u001b[43m(\u001b[49m\u001b[38;5;241;43m4\u001b[39;49m\u001b[43m,\u001b[49m\u001b[43m \u001b[49m\u001b[38;5;241;43m40\u001b[39;49m\u001b[43m)\u001b[49m\n",
      "Cell \u001b[1;32mIn[387], line 41\u001b[0m, in \u001b[0;36mLinkedList.insert\u001b[1;34m(self, index, value)\u001b[0m\n\u001b[0;32m     39\u001b[0m temp_node \u001b[38;5;241m=\u001b[39m \u001b[38;5;28mself\u001b[39m\u001b[38;5;241m.\u001b[39mhead\n\u001b[0;32m     40\u001b[0m \u001b[38;5;28;01mif\u001b[39;00m \u001b[38;5;28mabs\u001b[39m(index) \u001b[38;5;241m>\u001b[39m \u001b[38;5;28mself\u001b[39m\u001b[38;5;241m.\u001b[39mlenght \u001b[38;5;241m+\u001b[39m \u001b[38;5;241m1\u001b[39m \u001b[38;5;129;01mor\u001b[39;00m index \u001b[38;5;241m>\u001b[39m \u001b[38;5;28mself\u001b[39m\u001b[38;5;241m.\u001b[39mlenght:\n\u001b[1;32m---> 41\u001b[0m     \u001b[38;5;28;01mraise\u001b[39;00m \u001b[38;5;167;01mIndexError\u001b[39;00m(\u001b[38;5;124mf\u001b[39m\u001b[38;5;124m\"\u001b[39m\u001b[38;5;124mOut of bound expection: The lenght of LinkedList is \u001b[39m\u001b[38;5;132;01m{\u001b[39;00m\u001b[38;5;28mself\u001b[39m\u001b[38;5;241m.\u001b[39mlenght\u001b[38;5;132;01m}\u001b[39;00m\u001b[38;5;124m. Enter value <= \u001b[39m\u001b[38;5;132;01m{\u001b[39;00m\u001b[38;5;28mself\u001b[39m\u001b[38;5;241m.\u001b[39mlenght\u001b[38;5;132;01m}\u001b[39;00m\u001b[38;5;124m or >= -\u001b[39m\u001b[38;5;132;01m{\u001b[39;00m\u001b[38;5;28mself\u001b[39m\u001b[38;5;241m.\u001b[39mlenght\u001b[38;5;250m \u001b[39m\u001b[38;5;241m+\u001b[39m\u001b[38;5;250m \u001b[39m\u001b[38;5;241m1\u001b[39m\u001b[38;5;132;01m}\u001b[39;00m\u001b[38;5;124m\"\u001b[39m)\n\u001b[0;32m     42\u001b[0m \u001b[38;5;28;01melif\u001b[39;00m index \u001b[38;5;241m==\u001b[39m \u001b[38;5;28mself\u001b[39m\u001b[38;5;241m.\u001b[39mlenght \u001b[38;5;129;01mor\u001b[39;00m index \u001b[38;5;241m==\u001b[39m \u001b[38;5;241m-\u001b[39m\u001b[38;5;241m1\u001b[39m:\n\u001b[0;32m     43\u001b[0m     \u001b[38;5;28mself\u001b[39m\u001b[38;5;241m.\u001b[39mappend(value)\n",
      "\u001b[1;31mIndexError\u001b[0m: Out of bound expection: The lenght of LinkedList is 3. Enter value <= 3 or >= -4"
     ]
    }
   ],
   "source": [
    "ll.insert(4, 40)"
   ]
  },
  {
   "cell_type": "code",
   "execution_count": 394,
   "id": "9b2c5b5b-1f27-47ff-b716-dac6837a41ff",
   "metadata": {},
   "outputs": [
    {
     "ename": "IndexError",
     "evalue": "Out of bound expection: The lenght of LinkedList is 3. Enter value <= 3 or >= -4",
     "output_type": "error",
     "traceback": [
      "\u001b[1;31m---------------------------------------------------------------------------\u001b[0m",
      "\u001b[1;31mIndexError\u001b[0m                                Traceback (most recent call last)",
      "Cell \u001b[1;32mIn[394], line 1\u001b[0m\n\u001b[1;32m----> 1\u001b[0m \u001b[43mll\u001b[49m\u001b[38;5;241;43m.\u001b[39;49m\u001b[43minsert\u001b[49m\u001b[43m(\u001b[49m\u001b[38;5;241;43m-\u001b[39;49m\u001b[38;5;241;43m5\u001b[39;49m\u001b[43m,\u001b[49m\u001b[43m \u001b[49m\u001b[38;5;241;43m5\u001b[39;49m\u001b[43m)\u001b[49m\n",
      "Cell \u001b[1;32mIn[387], line 41\u001b[0m, in \u001b[0;36mLinkedList.insert\u001b[1;34m(self, index, value)\u001b[0m\n\u001b[0;32m     39\u001b[0m temp_node \u001b[38;5;241m=\u001b[39m \u001b[38;5;28mself\u001b[39m\u001b[38;5;241m.\u001b[39mhead\n\u001b[0;32m     40\u001b[0m \u001b[38;5;28;01mif\u001b[39;00m \u001b[38;5;28mabs\u001b[39m(index) \u001b[38;5;241m>\u001b[39m \u001b[38;5;28mself\u001b[39m\u001b[38;5;241m.\u001b[39mlenght \u001b[38;5;241m+\u001b[39m \u001b[38;5;241m1\u001b[39m \u001b[38;5;129;01mor\u001b[39;00m index \u001b[38;5;241m>\u001b[39m \u001b[38;5;28mself\u001b[39m\u001b[38;5;241m.\u001b[39mlenght:\n\u001b[1;32m---> 41\u001b[0m     \u001b[38;5;28;01mraise\u001b[39;00m \u001b[38;5;167;01mIndexError\u001b[39;00m(\u001b[38;5;124mf\u001b[39m\u001b[38;5;124m\"\u001b[39m\u001b[38;5;124mOut of bound expection: The lenght of LinkedList is \u001b[39m\u001b[38;5;132;01m{\u001b[39;00m\u001b[38;5;28mself\u001b[39m\u001b[38;5;241m.\u001b[39mlenght\u001b[38;5;132;01m}\u001b[39;00m\u001b[38;5;124m. Enter value <= \u001b[39m\u001b[38;5;132;01m{\u001b[39;00m\u001b[38;5;28mself\u001b[39m\u001b[38;5;241m.\u001b[39mlenght\u001b[38;5;132;01m}\u001b[39;00m\u001b[38;5;124m or >= -\u001b[39m\u001b[38;5;132;01m{\u001b[39;00m\u001b[38;5;28mself\u001b[39m\u001b[38;5;241m.\u001b[39mlenght\u001b[38;5;250m \u001b[39m\u001b[38;5;241m+\u001b[39m\u001b[38;5;250m \u001b[39m\u001b[38;5;241m1\u001b[39m\u001b[38;5;132;01m}\u001b[39;00m\u001b[38;5;124m\"\u001b[39m)\n\u001b[0;32m     42\u001b[0m \u001b[38;5;28;01melif\u001b[39;00m index \u001b[38;5;241m==\u001b[39m \u001b[38;5;28mself\u001b[39m\u001b[38;5;241m.\u001b[39mlenght \u001b[38;5;129;01mor\u001b[39;00m index \u001b[38;5;241m==\u001b[39m \u001b[38;5;241m-\u001b[39m\u001b[38;5;241m1\u001b[39m:\n\u001b[0;32m     43\u001b[0m     \u001b[38;5;28mself\u001b[39m\u001b[38;5;241m.\u001b[39mappend(value)\n",
      "\u001b[1;31mIndexError\u001b[0m: Out of bound expection: The lenght of LinkedList is 3. Enter value <= 3 or >= -4"
     ]
    }
   ],
   "source": [
    "ll.insert(-5, 5)"
   ]
  },
  {
   "cell_type": "code",
   "execution_count": 395,
   "id": "2e236f9f-d18c-41c0-974c-2800ca048b0c",
   "metadata": {},
   "outputs": [
    {
     "name": "stdout",
     "output_type": "stream",
     "text": [
      "10 -> 20 -> 30 -> 40\n"
     ]
    }
   ],
   "source": [
    "ll.insert(3, 40)\n",
    "print(ll)"
   ]
  },
  {
   "cell_type": "code",
   "execution_count": 396,
   "id": "f709e6a4-25f8-4693-bcb0-f450fe19f631",
   "metadata": {},
   "outputs": [
    {
     "name": "stdout",
     "output_type": "stream",
     "text": [
      "4\n"
     ]
    }
   ],
   "source": [
    "print(ll.lenght)"
   ]
  },
  {
   "cell_type": "code",
   "execution_count": 397,
   "id": "5ec5f6f4-6cbe-4cef-8d96-b38076655ad7",
   "metadata": {},
   "outputs": [],
   "source": [
    "ll.insert(-1, 50)"
   ]
  },
  {
   "cell_type": "code",
   "execution_count": 398,
   "id": "7b3c5ea2-bfaa-4769-85aa-ff48599a4558",
   "metadata": {},
   "outputs": [
    {
     "name": "stdout",
     "output_type": "stream",
     "text": [
      "10 -> 20 -> 30 -> 40 -> 50\n"
     ]
    }
   ],
   "source": [
    "print(ll)"
   ]
  },
  {
   "cell_type": "code",
   "execution_count": 399,
   "id": "c88b2a66-acc5-409b-ab7c-046a7b748e9f",
   "metadata": {},
   "outputs": [
    {
     "data": {
      "text/plain": [
       "5"
      ]
     },
     "execution_count": 399,
     "metadata": {},
     "output_type": "execute_result"
    }
   ],
   "source": [
    "ll.lenght"
   ]
  },
  {
   "cell_type": "code",
   "execution_count": 400,
   "id": "5e221121-84a7-45be-bf4d-0f004162dba7",
   "metadata": {},
   "outputs": [],
   "source": [
    "ll.insert(0, 5)"
   ]
  },
  {
   "cell_type": "code",
   "execution_count": 401,
   "id": "cb971e29-ef4f-4a53-aa83-b0008b74a842",
   "metadata": {},
   "outputs": [
    {
     "name": "stdout",
     "output_type": "stream",
     "text": [
      "5 -> 10 -> 20 -> 30 -> 40 -> 50\n"
     ]
    }
   ],
   "source": [
    "print(ll)"
   ]
  },
  {
   "cell_type": "code",
   "execution_count": 402,
   "id": "bf9014e0-c121-482c-aad8-a6041e321e35",
   "metadata": {},
   "outputs": [],
   "source": [
    "ll.insert(-7, 1)"
   ]
  },
  {
   "cell_type": "code",
   "execution_count": 403,
   "id": "6a97d350-c08a-4f44-9a18-0bcec3e1e689",
   "metadata": {},
   "outputs": [
    {
     "name": "stdout",
     "output_type": "stream",
     "text": [
      "1 -> 5 -> 10 -> 20 -> 30 -> 40 -> 50\n"
     ]
    }
   ],
   "source": [
    "print(ll)"
   ]
  },
  {
   "cell_type": "code",
   "execution_count": 404,
   "id": "cd57dbae-b89f-461c-a145-8c91e35fe70f",
   "metadata": {},
   "outputs": [],
   "source": [
    "ll.insert(2, 7)"
   ]
  },
  {
   "cell_type": "code",
   "execution_count": 405,
   "id": "bf9dd8cb-2230-45ba-a84e-4b30199d94b5",
   "metadata": {},
   "outputs": [
    {
     "name": "stdout",
     "output_type": "stream",
     "text": [
      "1 -> 5 -> 7 -> 10 -> 20 -> 30 -> 40 -> 50\n"
     ]
    }
   ],
   "source": [
    "print(ll)"
   ]
  },
  {
   "cell_type": "code",
   "execution_count": 406,
   "id": "d471bd0a-48bb-4497-84c3-1c5a39f4ee86",
   "metadata": {},
   "outputs": [
    {
     "data": {
      "text/plain": [
       "8"
      ]
     },
     "execution_count": 406,
     "metadata": {},
     "output_type": "execute_result"
    }
   ],
   "source": [
    "ll.lenght"
   ]
  },
  {
   "cell_type": "code",
   "execution_count": 407,
   "id": "5f0c01aa-74f8-4ef0-8d21-7c9b172a9021",
   "metadata": {},
   "outputs": [],
   "source": [
    "ll.insert(-3, 35)"
   ]
  },
  {
   "cell_type": "code",
   "execution_count": 408,
   "id": "3e5b55ad-8bc2-46ef-9d84-9feec31f9569",
   "metadata": {},
   "outputs": [
    {
     "name": "stdout",
     "output_type": "stream",
     "text": [
      "1 -> 5 -> 7 -> 10 -> 20 -> 30 -> 35 -> 40 -> 50\n"
     ]
    }
   ],
   "source": [
    "print(ll)"
   ]
  },
  {
   "cell_type": "code",
   "execution_count": null,
   "id": "daf11d56-6fb9-46fc-8d16-67a1f2f56703",
   "metadata": {},
   "outputs": [],
   "source": []
  },
  {
   "cell_type": "code",
   "execution_count": null,
   "id": "afdca8a6-4791-4441-aa8e-1d0f07f230b1",
   "metadata": {},
   "outputs": [],
   "source": []
  }
 ],
 "metadata": {
  "kernelspec": {
   "display_name": "Python 3 (ipykernel)",
   "language": "python",
   "name": "python3"
  },
  "language_info": {
   "codemirror_mode": {
    "name": "ipython",
    "version": 3
   },
   "file_extension": ".py",
   "mimetype": "text/x-python",
   "name": "python",
   "nbconvert_exporter": "python",
   "pygments_lexer": "ipython3",
   "version": "3.11.5"
  }
 },
 "nbformat": 4,
 "nbformat_minor": 5
}
